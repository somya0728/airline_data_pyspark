{
  "nbformat": 4,
  "nbformat_minor": 0,
  "metadata": {
    "colab": {
      "name": "Airline_Data_Analysis_Pyspark.ipynb",
      "provenance": [],
      "collapsed_sections": []
    },
    "kernelspec": {
      "name": "python3",
      "display_name": "Python 3"
    },
    "language_info": {
      "name": "python"
    }
  },
  "cells": [
    {
      "cell_type": "markdown",
      "source": [
        "##**Airline Data Analysis** "
      ],
      "metadata": {
        "id": "vVSyylNDOhFr"
      }
    },
    {
      "cell_type": "markdown",
      "source": [
        "### Aim\n",
        "    Show a sample of 5 records from dataset.\n",
        "    Read the data with data types.\n",
        "    Make a new column MonthStr, Which has months in form of 01, 02, 03, ..., 12.\n",
        "    Find the # of flights each airline made.\n",
        "    Find the mean departure delay per origination airport.\n",
        "    What is the average departure delay from each airport?"
      ],
      "metadata": {
        "id": "72653-IIOoQf"
      }
    },
    {
      "cell_type": "code",
      "execution_count": 5,
      "metadata": {
        "colab": {
          "base_uri": "https://localhost:8080/"
        },
        "id": "okXXXnuIu9p-",
        "outputId": "653ce54d-b19f-46fb-b79b-66c0e8bf4ed2"
      },
      "outputs": [
        {
          "output_type": "stream",
          "name": "stdout",
          "text": [
            "Looking in indexes: https://pypi.org/simple, https://us-python.pkg.dev/colab-wheels/public/simple/\n",
            "Collecting pyspark\n",
            "  Downloading pyspark-3.3.0.tar.gz (281.3 MB)\n",
            "\u001b[K     |████████████████████████████████| 281.3 MB 43 kB/s \n",
            "\u001b[?25hCollecting py4j==0.10.9.5\n",
            "  Downloading py4j-0.10.9.5-py2.py3-none-any.whl (199 kB)\n",
            "\u001b[K     |████████████████████████████████| 199 kB 48.6 MB/s \n",
            "\u001b[?25hBuilding wheels for collected packages: pyspark\n",
            "  Building wheel for pyspark (setup.py) ... \u001b[?25l\u001b[?25hdone\n",
            "  Created wheel for pyspark: filename=pyspark-3.3.0-py2.py3-none-any.whl size=281764026 sha256=17cc16a485f3f59293e654f20a5f1c9ba6d4f22c6f6ba6cf2d9f1c52cc687708\n",
            "  Stored in directory: /root/.cache/pip/wheels/7a/8e/1b/f73a52650d2e5f337708d9f6a1750d451a7349a867f928b885\n",
            "Successfully built pyspark\n",
            "Installing collected packages: py4j, pyspark\n",
            "Successfully installed py4j-0.10.9.5 pyspark-3.3.0\n"
          ]
        }
      ],
      "source": [
        "pip install pyspark # installing pyspark enviornment "
      ]
    },
    {
      "cell_type": "code",
      "source": [
        "#importing required libraries\n",
        "from pyspark import SparkContext,SparkConf\n",
        "from pyspark.sql import SparkSession\n",
        "from pyspark.sql import SQLContext\n",
        "from pyspark.sql import functions as f\n",
        "from pyspark.sql.types import IntegerType"
      ],
      "metadata": {
        "id": "1k_6AYB5u_iB"
      },
      "execution_count": 6,
      "outputs": []
    },
    {
      "cell_type": "code",
      "source": [
        "#Spark Config\n",
        "conf = SparkConf().setAppName('airline_conf')\n",
        "sc = SparkContext(conf=conf)\n",
        "spark=SparkSession.builder.appName('spark_airline').getOrCreate()\n",
        "sqlcontext=SQLContext(spark)"
      ],
      "metadata": {
        "colab": {
          "base_uri": "https://localhost:8080/"
        },
        "id": "Ss6rJVGnvXcV",
        "outputId": "a9fcbad1-c62f-4e22-84a7-12e8fc901783"
      },
      "execution_count": 7,
      "outputs": [
        {
          "output_type": "stream",
          "name": "stderr",
          "text": [
            "/usr/local/lib/python3.7/dist-packages/pyspark/sql/context.py:114: FutureWarning: Deprecated in 3.0.0. Use SparkSession.builder.getOrCreate() instead.\n",
            "  FutureWarning,\n"
          ]
        }
      ]
    },
    {
      "cell_type": "code",
      "source": [
        "#loading data set\n",
        "df=spark.read.csv('/content/Airline_data.csv',header=True)"
      ],
      "metadata": {
        "id": "FYM_c7f9v9rI"
      },
      "execution_count": 8,
      "outputs": []
    },
    {
      "cell_type": "markdown",
      "source": [
        "#### Showing sample 5 records from dataset"
      ],
      "metadata": {
        "id": "TOjYvMAmO_hJ"
      }
    },
    {
      "cell_type": "code",
      "source": [
        "df.show(5) # showing top 5 rows "
      ],
      "metadata": {
        "colab": {
          "base_uri": "https://localhost:8080/"
        },
        "id": "07m8mK1JwNzK",
        "outputId": "29bc6e0a-1941-44bc-9639-2305f923b0bb"
      },
      "execution_count": null,
      "outputs": [
        {
          "output_type": "stream",
          "name": "stdout",
          "text": [
            "+----+-----+----------+---------+-------+----------+-------+----------+-------------+---------+-------+-----------------+--------------+-------+--------+--------+------+----+--------+------+-------+---------+----------------+--------+------------+------------+--------+-------------+-----------------+\n",
            "|Year|Month|DayofMonth|DayOfWeek|DepTime|CRSDepTime|ArrTime|CRSArrTime|UniqueCarrier|FlightNum|TailNum|ActualElapsedTime|CRSElapsedTime|AirTime|ArrDelay|DepDelay|Origin|Dest|Distance|TaxiIn|TaxiOut|Cancelled|CancellationCode|Diverted|CarrierDelay|WeatherDelay|NASDelay|SecurityDelay|LateAircraftDelay|\n",
            "+----+-----+----------+---------+-------+----------+-------+----------+-------------+---------+-------+-----------------+--------------+-------+--------+--------+------+----+--------+------+-------+---------+----------------+--------+------------+------------+--------+-------------+-----------------+\n",
            "|1989|    1|        23|        1|   1419|      1230|   1742|      1552|           UA|      183|     NA|              323|           322|     NA|     110|     109|   SFO| HNL|    2398|    NA|     NA|        0|              NA|       0|          NA|          NA|      NA|           NA|               NA|\n",
            "|1989|    1|        24|        2|   1255|      1230|   1612|      1552|           UA|      183|     NA|              317|           322|     NA|      20|      25|   SFO| HNL|    2398|    NA|     NA|        0|              NA|       0|          NA|          NA|      NA|           NA|               NA|\n",
            "|1989|    1|        25|        3|   1230|      1230|   1533|      1552|           UA|      183|     NA|              303|           322|     NA|     -19|       0|   SFO| HNL|    2398|    NA|     NA|        0|              NA|       0|          NA|          NA|      NA|           NA|               NA|\n",
            "|1989|    1|        26|        4|   1230|      1230|   1523|      1552|           UA|      183|     NA|              293|           322|     NA|     -29|       0|   SFO| HNL|    2398|    NA|     NA|        0|              NA|       0|          NA|          NA|      NA|           NA|               NA|\n",
            "|1989|    1|        27|        5|   1232|      1230|   1513|      1552|           UA|      183|     NA|              281|           322|     NA|     -39|       2|   SFO| HNL|    2398|    NA|     NA|        0|              NA|       0|          NA|          NA|      NA|           NA|               NA|\n",
            "+----+-----+----------+---------+-------+----------+-------+----------+-------------+---------+-------+-----------------+--------------+-------+--------+--------+------+----+--------+------+-------+---------+----------------+--------+------------+------------+--------+-------------+-----------------+\n",
            "only showing top 5 rows\n",
            "\n"
          ]
        }
      ]
    },
    {
      "cell_type": "markdown",
      "source": [
        "#### Shape of data"
      ],
      "metadata": {
        "id": "Ktk8Tl-FPHkZ"
      }
    },
    {
      "cell_type": "code",
      "source": [
        "row=df.count()\n",
        "col=len(df.columns)\n",
        "print('shape of dataset: (',row,',',col,')')"
      ],
      "metadata": {
        "colab": {
          "base_uri": "https://localhost:8080/"
        },
        "id": "sCwnaEwcPEcG",
        "outputId": "e65e6f8d-a996-4992-ea80-2efba104f1d1"
      },
      "execution_count": 9,
      "outputs": [
        {
          "output_type": "stream",
          "name": "stdout",
          "text": [
            "shape of dataset: ( 426 , 29 )\n"
          ]
        }
      ]
    },
    {
      "cell_type": "markdown",
      "source": [
        "#### Read the data with data types."
      ],
      "metadata": {
        "id": "f9EiwNbxPX_a"
      }
    },
    {
      "cell_type": "code",
      "source": [
        "df.printSchema()  #  printing dataset schema"
      ],
      "metadata": {
        "colab": {
          "base_uri": "https://localhost:8080/"
        },
        "id": "YEcT-Nlc4ZV8",
        "outputId": "50ddb3c9-562a-4b1f-f444-f27461ee48c0"
      },
      "execution_count": 10,
      "outputs": [
        {
          "output_type": "stream",
          "name": "stdout",
          "text": [
            "root\n",
            " |-- Year: string (nullable = true)\n",
            " |-- Month: string (nullable = true)\n",
            " |-- DayofMonth: string (nullable = true)\n",
            " |-- DayOfWeek: string (nullable = true)\n",
            " |-- DepTime: string (nullable = true)\n",
            " |-- CRSDepTime: string (nullable = true)\n",
            " |-- ArrTime: string (nullable = true)\n",
            " |-- CRSArrTime: string (nullable = true)\n",
            " |-- UniqueCarrier: string (nullable = true)\n",
            " |-- FlightNum: string (nullable = true)\n",
            " |-- TailNum: string (nullable = true)\n",
            " |-- ActualElapsedTime: string (nullable = true)\n",
            " |-- CRSElapsedTime: string (nullable = true)\n",
            " |-- AirTime: string (nullable = true)\n",
            " |-- ArrDelay: string (nullable = true)\n",
            " |-- DepDelay: string (nullable = true)\n",
            " |-- Origin: string (nullable = true)\n",
            " |-- Dest: string (nullable = true)\n",
            " |-- Distance: string (nullable = true)\n",
            " |-- TaxiIn: string (nullable = true)\n",
            " |-- TaxiOut: string (nullable = true)\n",
            " |-- Cancelled: string (nullable = true)\n",
            " |-- CancellationCode: string (nullable = true)\n",
            " |-- Diverted: string (nullable = true)\n",
            " |-- CarrierDelay: string (nullable = true)\n",
            " |-- WeatherDelay: string (nullable = true)\n",
            " |-- NASDelay: string (nullable = true)\n",
            " |-- SecurityDelay: string (nullable = true)\n",
            " |-- LateAircraftDelay: string (nullable = true)\n",
            "\n"
          ]
        }
      ]
    },
    {
      "cell_type": "markdown",
      "source": [
        "#### Make a new column MonthStr, Which has months in form of 01, 02, 03, ..., 12."
      ],
      "metadata": {
        "id": "9poB-pqjPze1"
      }
    },
    {
      "cell_type": "code",
      "source": [
        "modified_df=df.withColumn(\"MonthStr\",f.date_format(f.to_date(f.concat_ws('-',df.Year,df.Month,df.DayofMonth)),\"MM\"))\n",
        "# first concating year,month, day and formating them into date\n",
        "# formating new concated date into monthnumber\n",
        "# storing this value into new column monthStr\n",
        "\n",
        "\n",
        "modified_df.select('MonthStr').show() # showing top 20 rows"
      ],
      "metadata": {
        "colab": {
          "base_uri": "https://localhost:8080/"
        },
        "id": "mpvYtp6E97af",
        "outputId": "5722f0e4-21e0-40f7-df57-125dfc7b2c0f"
      },
      "execution_count": 12,
      "outputs": [
        {
          "output_type": "stream",
          "name": "stdout",
          "text": [
            "+--------+\n",
            "|MonthStr|\n",
            "+--------+\n",
            "|      01|\n",
            "|      01|\n",
            "|      01|\n",
            "|      01|\n",
            "|      01|\n",
            "|      01|\n",
            "|      01|\n",
            "|      01|\n",
            "|      01|\n",
            "|      01|\n",
            "|      01|\n",
            "|      01|\n",
            "|      01|\n",
            "|      01|\n",
            "|      01|\n",
            "|      01|\n",
            "|      01|\n",
            "|      01|\n",
            "|      01|\n",
            "|      01|\n",
            "+--------+\n",
            "only showing top 20 rows\n",
            "\n"
          ]
        }
      ]
    },
    {
      "cell_type": "markdown",
      "source": [
        "#### Find the no. of flights each airline made."
      ],
      "metadata": {
        "id": "oFLJlZPzQXAy"
      }
    },
    {
      "cell_type": "code",
      "source": [
        "df.groupBy('UniqueCarrier').count().orderBy(f.desc('count')).show()\n",
        "# grouping the data set by UniqueCarrier\n",
        "# counting the no of rows for each carrier\n",
        "#sorting the result in descending order and showing top 20 rows"
      ],
      "metadata": {
        "colab": {
          "base_uri": "https://localhost:8080/"
        },
        "id": "jN9SWhy7wRHj",
        "outputId": "2477375c-f1c1-434a-b83e-f1f5a0bfb182"
      },
      "execution_count": 13,
      "outputs": [
        {
          "output_type": "stream",
          "name": "stdout",
          "text": [
            "+-------------+-----+\n",
            "|UniqueCarrier|count|\n",
            "+-------------+-----+\n",
            "|           UA|  426|\n",
            "+-------------+-----+\n",
            "\n"
          ]
        }
      ]
    },
    {
      "cell_type": "markdown",
      "source": [
        "#### Feature Update"
      ],
      "metadata": {
        "id": "5Eq4kQewRsq8"
      }
    },
    {
      "cell_type": "code",
      "source": [
        "# changing data type of column DepDelay and ArrDelay, converting this column into integer\n",
        "modified_df=df.withColumn(\"DepDelay\", df[\"DepDelay\"].cast(IntegerType()))  \n",
        "modified_df=modified_df.withColumn(\"ArrDelay\", modified_df[\"ArrDelay\"].cast(IntegerType())) "
      ],
      "metadata": {
        "id": "sjBXpSLD1Sy7"
      },
      "execution_count": 14,
      "outputs": []
    },
    {
      "cell_type": "code",
      "source": [
        "modified_df.printSchema()\n",
        "#checking datatype after converting it"
      ],
      "metadata": {
        "colab": {
          "base_uri": "https://localhost:8080/"
        },
        "id": "xMGNTY9EAGLJ",
        "outputId": "6bc714e2-1cfa-494f-ab79-1dd59ac37a1c"
      },
      "execution_count": 15,
      "outputs": [
        {
          "output_type": "stream",
          "name": "stdout",
          "text": [
            "root\n",
            " |-- Year: string (nullable = true)\n",
            " |-- Month: string (nullable = true)\n",
            " |-- DayofMonth: string (nullable = true)\n",
            " |-- DayOfWeek: string (nullable = true)\n",
            " |-- DepTime: string (nullable = true)\n",
            " |-- CRSDepTime: string (nullable = true)\n",
            " |-- ArrTime: string (nullable = true)\n",
            " |-- CRSArrTime: string (nullable = true)\n",
            " |-- UniqueCarrier: string (nullable = true)\n",
            " |-- FlightNum: string (nullable = true)\n",
            " |-- TailNum: string (nullable = true)\n",
            " |-- ActualElapsedTime: string (nullable = true)\n",
            " |-- CRSElapsedTime: string (nullable = true)\n",
            " |-- AirTime: string (nullable = true)\n",
            " |-- ArrDelay: integer (nullable = true)\n",
            " |-- DepDelay: integer (nullable = true)\n",
            " |-- Origin: string (nullable = true)\n",
            " |-- Dest: string (nullable = true)\n",
            " |-- Distance: string (nullable = true)\n",
            " |-- TaxiIn: string (nullable = true)\n",
            " |-- TaxiOut: string (nullable = true)\n",
            " |-- Cancelled: string (nullable = true)\n",
            " |-- CancellationCode: string (nullable = true)\n",
            " |-- Diverted: string (nullable = true)\n",
            " |-- CarrierDelay: string (nullable = true)\n",
            " |-- WeatherDelay: string (nullable = true)\n",
            " |-- NASDelay: string (nullable = true)\n",
            " |-- SecurityDelay: string (nullable = true)\n",
            " |-- LateAircraftDelay: string (nullable = true)\n",
            "\n"
          ]
        }
      ]
    },
    {
      "cell_type": "markdown",
      "source": [
        "#### Find the mean arrival delay per origination airport?"
      ],
      "metadata": {
        "id": "ihuJtCEzR3yU"
      }
    },
    {
      "cell_type": "code",
      "source": [
        "modified_df.groupBy('Origin').mean('ArrDelay').withColumnRenamed('avg(ArrDelay)','avg_ArrDelay').show()\n",
        "# grouping data by Origin and calculating mean for ArrDelay\n",
        "# renaming mean column and showing top 20 rows"
      ],
      "metadata": {
        "colab": {
          "base_uri": "https://localhost:8080/"
        },
        "id": "Hf5Gv0CiAGOv",
        "outputId": "5780e8cd-a9c4-4a14-8146-4b92f6d9745b"
      },
      "execution_count": 16,
      "outputs": [
        {
          "output_type": "stream",
          "name": "stdout",
          "text": [
            "+------+-------------------+\n",
            "|Origin|       avg_ArrDelay|\n",
            "+------+-------------------+\n",
            "|   LIH|0.16666666666666666|\n",
            "|   HNL|  14.21774193548387|\n",
            "|   EWR|               9.25|\n",
            "|   DEN| 20.166666666666668|\n",
            "|   IAD| 12.966666666666667|\n",
            "|   SFO| 11.215384615384615|\n",
            "|   PHL|  6.827586206896552|\n",
            "|   OGG|  16.24137931034483|\n",
            "+------+-------------------+\n",
            "\n"
          ]
        }
      ]
    },
    {
      "cell_type": "markdown",
      "source": [
        "#### What is the average departure delay from each airport?"
      ],
      "metadata": {
        "id": "tL24rDnhSLf9"
      }
    },
    {
      "cell_type": "code",
      "source": [
        "modified_df.groupBy('Origin').avg('DepDelay').withColumnRenamed('avg(DepDelay)','avg_DepDelay').show()\n",
        "# grouping data by Origin and calculating avg  for DepDelay\n",
        "# renaming avg column and showing top 20 rows"
      ],
      "metadata": {
        "colab": {
          "base_uri": "https://localhost:8080/"
        },
        "id": "2Dk5cZ0v3X4G",
        "outputId": "2a05f1fc-9725-4f5f-bbcd-713d090de5b9"
      },
      "execution_count": 17,
      "outputs": [
        {
          "output_type": "stream",
          "name": "stdout",
          "text": [
            "+------+-------------------+\n",
            "|Origin|       avg_DepDelay|\n",
            "+------+-------------------+\n",
            "|   LIH|-3.7666666666666666|\n",
            "|   HNL|  3.217741935483871|\n",
            "|   EWR|  4.958333333333333|\n",
            "|   DEN|               27.6|\n",
            "|   IAD|                8.9|\n",
            "|   SFO| 19.646153846153847|\n",
            "|   PHL| 16.137931034482758|\n",
            "|   OGG|                6.0|\n",
            "+------+-------------------+\n",
            "\n"
          ]
        }
      ]
    }
  ]
}